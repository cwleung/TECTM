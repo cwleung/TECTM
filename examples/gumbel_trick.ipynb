{
 "cells": [
  {
   "cell_type": "code",
   "execution_count": 2,
   "metadata": {
    "collapsed": true
   },
   "outputs": [],
   "source": [
    "import torch\n",
    "from torch import nn, optim\n",
    "from torch.nn import functional as F\n",
    "from torchvision import datasets, transforms\n",
    "from torch.distributions.one_hot_categorical import OneHotCategorical\n",
    "\n",
    "cuda=False\n",
    "\n",
    "\n",
    "batch_size = 100\n",
    "epochs = 10\n",
    "latent_dim = 30\n",
    "categorical_dim = 10\n",
    "temp = 1.0\n",
    "\n",
    "\n",
    "def sample_gumbel(shape, eps=1e-20):\n",
    "    # 1. create random shape\n",
    "    U = torch.rand(shape)\n",
    "    if cuda:\n",
    "        U = U.cuda()\n",
    "    # 2. calculate the torch stuff\n",
    "    return -torch.log(-torch.log(U + eps) + eps)\n",
    "\n",
    "def gumbel_softmax_sample(logits, temperature):\n",
    "    # 3. plus the logit\n",
    "    y = logits + sample_gumbel(logits.size())\n",
    "    return F.softmax(y / temperature, dim=-1)\n",
    "\n",
    "def gumbel_softmax(logits, temperature, evaluate=False):\n",
    "    if evaluate:\n",
    "        d =  OneHotCategorical(logits=logits.view(-1, latent_dim, categorical_dim))\n",
    "        return d.sample().view(-1, latent_dim * categorical_dim)\n",
    "\n",
    "    y = gumbel_softmax_sample(logits, temperature)\n",
    "    return y.view(-1, latent_dim * categorical_dim)"
   ]
  },
  {
   "cell_type": "code",
   "execution_count": 3,
   "outputs": [
    {
     "data": {
      "text/plain": "tensor([[0., 0., 0., 0., 0., 0., 1., 0., 0., 0.],\n        [0., 0., 1., 0., 0., 0., 0., 0., 0., 0.],\n        [0., 0., 1., 0., 0., 0., 0., 0., 0., 0.],\n        [0., 0., 0., 0., 0., 0., 0., 1., 0., 0.],\n        [0., 0., 0., 0., 0., 1., 0., 0., 0., 0.],\n        [0., 0., 0., 0., 0., 0., 0., 1., 0., 0.],\n        [0., 0., 0., 0., 0., 0., 0., 0., 1., 0.],\n        [1., 0., 0., 0., 0., 0., 0., 0., 0., 0.],\n        [1., 0., 0., 0., 0., 0., 0., 0., 0., 0.],\n        [0., 0., 0., 0., 1., 0., 0., 0., 0., 0.],\n        [0., 0., 0., 0., 0., 0., 0., 1., 0., 0.],\n        [0., 0., 0., 1., 0., 0., 0., 0., 0., 0.],\n        [0., 0., 0., 0., 0., 0., 0., 0., 1., 0.],\n        [0., 0., 1., 0., 0., 0., 0., 0., 0., 0.],\n        [0., 0., 0., 0., 1., 0., 0., 0., 0., 0.],\n        [0., 0., 0., 0., 0., 1., 0., 0., 0., 0.],\n        [0., 0., 1., 0., 0., 0., 0., 0., 0., 0.],\n        [0., 0., 0., 0., 0., 0., 0., 1., 0., 0.],\n        [0., 0., 0., 0., 0., 1., 0., 0., 0., 0.],\n        [1., 0., 0., 0., 0., 0., 0., 0., 0., 0.],\n        [0., 0., 0., 0., 0., 0., 1., 0., 0., 0.],\n        [0., 0., 0., 0., 0., 0., 0., 1., 0., 0.],\n        [0., 0., 0., 0., 1., 0., 0., 0., 0., 0.],\n        [1., 0., 0., 0., 0., 0., 0., 0., 0., 0.],\n        [0., 0., 0., 0., 1., 0., 0., 0., 0., 0.],\n        [1., 0., 0., 0., 0., 0., 0., 0., 0., 0.],\n        [0., 0., 1., 0., 0., 0., 0., 0., 0., 0.],\n        [0., 0., 0., 0., 0., 1., 0., 0., 0., 0.],\n        [0., 0., 1., 0., 0., 0., 0., 0., 0., 0.],\n        [0., 0., 0., 1., 0., 0., 0., 0., 0., 0.]])"
     },
     "execution_count": 3,
     "metadata": {},
     "output_type": "execute_result"
    }
   ],
   "source": [
    "sample_gumbel((1,2)),\n",
    "OneHotCategorical(logits=sample_gumbel((30,10)).view(latent_dim, categorical_dim)).sample()"
   ],
   "metadata": {
    "collapsed": false
   }
  },
  {
   "cell_type": "code",
   "execution_count": 13,
   "outputs": [
    {
     "name": "stdout",
     "output_type": "stream",
     "text": [
      "torch.Size([16, 300]) torch.Size([16, 30, 10]) torch.Size([16, 300])\n",
      "torch.Size([16, 300]) torch.Size([16, 30, 10]) torch.Size([16, 300])\n"
     ]
    },
    {
     "data": {
      "text/plain": "(torch.Size([16, 784]), torch.Size([16, 300]))"
     },
     "execution_count": 13,
     "metadata": {},
     "output_type": "execute_result"
    }
   ],
   "source": [
    "class VAE_gumbel(nn.Module):\n",
    "    def __init__(self):\n",
    "        super(VAE_gumbel, self).__init__()\n",
    "\n",
    "        self.fc1 = nn.Linear(784, 512)\n",
    "        self.fc2 = nn.Linear(512, 256)\n",
    "        self.fc3 = nn.Linear(256, latent_dim * categorical_dim)\n",
    "\n",
    "        self.fc4 = nn.Linear(latent_dim * categorical_dim, 256)\n",
    "        self.fc5 = nn.Linear(256, 512)\n",
    "        self.fc6 = nn.Linear(512, 784)\n",
    "\n",
    "        self.relu = nn.ReLU()\n",
    "        self.sigmoid = nn.Sigmoid()\n",
    "\n",
    "    def encode(self, x):\n",
    "        h1 = self.relu(self.fc1(x))\n",
    "        h2 = self.relu(self.fc2(h1))\n",
    "        return self.relu(self.fc3(h2))\n",
    "\n",
    "    def decode(self, z):\n",
    "        h4 = self.relu(self.fc4(z))\n",
    "        h5 = self.relu(self.fc5(h4))\n",
    "        return self.sigmoid(self.fc6(h5))\n",
    "\n",
    "    def forward(self, x, temp, evaluate=False):\n",
    "        q = self.encode(x.view(-1, 784))\n",
    "        q_y = q.view(q.size(0), latent_dim, categorical_dim)\n",
    "        z = gumbel_softmax(q_y, temp, evaluate)\n",
    "        print(q.shape, q_y.shape, z.shape)\n",
    "        return self.decode(z), F.softmax(q_y, dim=-1).reshape(*q.size())\n",
    "\n",
    "\n",
    "m = VAE_gumbel()\n",
    "m(torch.randn((16,784)),1)[0].shape,m(torch.randn((16,784)),1)[1].shape"
   ],
   "metadata": {
    "collapsed": false
   }
  },
  {
   "cell_type": "code",
   "execution_count": 5,
   "outputs": [
    {
     "ename": "TypeError",
     "evalue": "VAE_gumbel.__init__() takes 1 positional argument but 2 were given",
     "output_type": "error",
     "traceback": [
      "\u001B[0;31m---------------------------------------------------------------------------\u001B[0m",
      "\u001B[0;31mTypeError\u001B[0m                                 Traceback (most recent call last)",
      "Cell \u001B[0;32mIn [5], line 8\u001B[0m\n\u001B[1;32m      4\u001B[0m     KLD \u001B[38;5;241m=\u001B[39m torch\u001B[38;5;241m.\u001B[39msum(qy \u001B[38;5;241m*\u001B[39m log_ratio, dim\u001B[38;5;241m=\u001B[39m\u001B[38;5;241m-\u001B[39m\u001B[38;5;241m1\u001B[39m)\u001B[38;5;241m.\u001B[39mmean()\n\u001B[1;32m      6\u001B[0m     \u001B[38;5;28;01mreturn\u001B[39;00m BCE \u001B[38;5;241m+\u001B[39m KLD\n\u001B[0;32m----> 8\u001B[0m model \u001B[38;5;241m=\u001B[39m \u001B[43mVAE_gumbel\u001B[49m\u001B[43m(\u001B[49m\u001B[43mtemp\u001B[49m\u001B[43m)\u001B[49m\n\u001B[1;32m      9\u001B[0m \u001B[38;5;28;01mif\u001B[39;00m cuda:\n\u001B[1;32m     10\u001B[0m     model\u001B[38;5;241m.\u001B[39mcuda()\n",
      "\u001B[0;31mTypeError\u001B[0m: VAE_gumbel.__init__() takes 1 positional argument but 2 were given"
     ]
    }
   ],
   "source": [
    "def loss_function(recon_x, x, qy):\n",
    "    BCE = F.binary_cross_entropy(recon_x, x.view(-1, 784), size_average=False) / x.shape[0]\n",
    "    log_ratio = torch.log(qy * categorical_dim + 1e-20)\n",
    "    KLD = torch.sum(qy * log_ratio, dim=-1).mean()\n",
    "\n",
    "    return BCE + KLD\n",
    "\n",
    "model = VAE_gumbel(temp)\n",
    "if cuda:\n",
    "    model.cuda()\n",
    "optimizer = optim.Adam(model.parameters(), lr=1e-3)\n",
    "\n",
    "kwargs = {'num_workers': 1, 'pin_memory': True} if cuda else {}\n",
    "train_loader = torch.utils.data.DataLoader(\n",
    "    datasets.MNIST('./data/MNIST', train=True, download=True,\n",
    "                   transform=transforms.ToTensor()),\n",
    "    batch_size=batch_size, shuffle=True, **kwargs)\n",
    "test_loader = torch.utils.data.DataLoader(\n",
    "    datasets.MNIST('./data/MNIST', train=False, transform=transforms.ToTensor()),\n",
    "    batch_size=batch_size, shuffle=True, **kwargs)"
   ],
   "metadata": {
    "collapsed": false
   }
  },
  {
   "cell_type": "code",
   "execution_count": null,
   "outputs": [],
   "source": [
    "def train(epoch):\n",
    "    model.train()\n",
    "    train_loss = 0\n",
    "    train_loss_unrelaxed = 0\n",
    "    #temp = args.temp\n",
    "    for batch_idx, (data, _) in enumerate(train_loader):\n",
    "        if cuda:\n",
    "            data = data.cuda()\n",
    "        optimizer.zero_grad()\n",
    "        recon_batch, qy = model(data, temp)\n",
    "        loss = loss_function(recon_batch, data, qy)\n",
    "        loss.backward()\n",
    "        train_loss += loss.item() * len(data)\n",
    "        optimizer.step()\n",
    "        #Unrelaxed training objective for comparison\n",
    "        recon_batch_eval, qy_eval = model(data, temp, evaluate=True)\n",
    "        loss_eval = loss_function(recon_batch_eval, data, qy_eval)\n",
    "        train_loss_unrelaxed += loss_eval.item() * len(data)\n",
    "\n",
    "    print('Epoch: {} Average loss relaxed: {:.4f} Unrelaxed: {:.4f}'.format(\n",
    "        epoch, train_loss / len(train_loader.dataset) , train_loss_unrelaxed / len(train_loader.dataset)))\n",
    "\n",
    "def test():\n",
    "    model.eval()\n",
    "    test_loss = 0\n",
    "    for i, (data, _) in enumerate(test_loader):\n",
    "        if cuda:\n",
    "            data = data.cuda()\n",
    "        recon_batch, qy = model(data, temp, evaluate=True)\n",
    "        test_loss += loss_function(recon_batch, data, qy).item() * len(data)\n",
    "    test_loss /= len(test_loader.dataset)\n",
    "    print('Eval loss: {:.4f}'.format(test_loss))\n",
    "\n",
    "def run():\n",
    "    for epoch in range(1, epochs + 1):\n",
    "        train(epoch)\n",
    "        test(epoch)\n",
    "\n",
    "run()\n",
    "\n"
   ],
   "metadata": {
    "collapsed": false
   }
  },
  {
   "cell_type": "code",
   "execution_count": null,
   "outputs": [],
   "source": [],
   "metadata": {
    "collapsed": false
   }
  }
 ],
 "metadata": {
  "kernelspec": {
   "display_name": "Python 3",
   "language": "python",
   "name": "python3"
  },
  "language_info": {
   "codemirror_mode": {
    "name": "ipython",
    "version": 2
   },
   "file_extension": ".py",
   "mimetype": "text/x-python",
   "name": "python",
   "nbconvert_exporter": "python",
   "pygments_lexer": "ipython2",
   "version": "2.7.6"
  }
 },
 "nbformat": 4,
 "nbformat_minor": 0
}
