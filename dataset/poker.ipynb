{
 "cells": [
  {
   "cell_type": "code",
   "execution_count": 1845,
   "outputs": [],
   "source": [
    "from collections import Counter\n",
    "from typing import List\n",
    "from random import randint\n",
    "\n",
    "\n",
    "class Card:\n",
    "    def __init__(self, num):\n",
    "        self.num = num\n",
    "        self.ranks = ['3', '4', '5', '6', '7', '8', '9', '10', 'J', 'Q', 'K', 'A', '2']\n",
    "        self.suits = ['Diamond', 'Club', 'Heart', 'Spade']\n",
    "\n",
    "    def score(self):\n",
    "        return self.rank\n",
    "\n",
    "    def rank(self):\n",
    "        return self.ranks[self.num // 4]\n",
    "\n",
    "    def suit(self):\n",
    "        return self.suits[self.num % 4]\n",
    "\n",
    "\n",
    "class Hand:\n",
    "    def __init__(self, cards: List[Card]):\n",
    "        self.cards = cards\n",
    "\n",
    "        self.ranks = list(map(Card.rank, self.cards))\n",
    "        self.suits = list(map(Card.suit, self.cards))\n",
    "\n",
    "        self._ranks = ['3', '4', '5', '6', '7', '8', '9', '10', 'J', 'Q', 'K', 'A', '2']\n",
    "        self._suits = ['Spade', 'Heart', 'Club', 'Diamond']\n",
    "\n",
    "        self.r_ranks = dict((v, k) for k, v in enumerate(self._ranks))\n",
    "        self.r_suits = dict((v, k) for k, v in enumerate(self._suits))\n",
    "\n",
    "    def is_first(self):\n",
    "        return any(card.rank() == '3' and card.suit() == 'Diamond' for card in self.cards)\n",
    "\n",
    "    def rank_score(self):\n",
    "        return sum(self.r_ranks[r] + 1 for r in self.ranks) // len(self.cards)\n",
    "\n",
    "    def num_cards(self, card) -> int:\n",
    "        return Counter(self.ranks)[card]\n",
    "\n",
    "    def num_pairs(self, n=2):\n",
    "        if n>len(self._suits):\n",
    "            return 0\n",
    "        return sum(i == n for i in Counter(self.ranks).values()) + self.num_pairs(n*2)\n",
    "\n",
    "    def num_straight(self):\n",
    "        # TODO\n",
    "\n",
    "    def num_flush(self):\n",
    "        # TODO\n",
    "\n",
    "    def num_full_house(self):\n",
    "        # TODO\n",
    "\n",
    "    def num_straight_flush(self):\n",
    "        # TODO\n",
    "\n",
    "\n",
    "class Deck:\n",
    "    def __init__(self, num_cards=52):\n",
    "        self.num_cards = num_cards\n",
    "        self.cards = None\n",
    "        self.shuffle()\n",
    "\n",
    "    def shuffle(self):\n",
    "        self.cards = [Card(i) for i in self.get_random(self.num_cards)]\n",
    "\n",
    "    def get_first_hand(self):\n",
    "        for hand in self.get_hands():\n",
    "            if hand.is_first():\n",
    "                return hand\n",
    "        return None\n",
    "\n",
    "    def get_hands(self) -> List[Hand]:\n",
    "        hands = []\n",
    "        for i in range(4):\n",
    "            hands.append(Hand(self.cards[i * 13:(i * 13) + 13]))\n",
    "        return hands\n",
    "\n",
    "    def get_random(self, num):\n",
    "        arr = list(range(num))\n",
    "        n = len(arr)\n",
    "        return self._randomize(arr, n)\n",
    "        # return np.random.permutation(num).tolist()\n",
    "\n",
    "    def _randomize(self, arr, n):\n",
    "        for i in range(n - 1, 0, -1):\n",
    "            j = randint(0, i)\n",
    "            arr[i], arr[j] = arr[j], arr[i]\n",
    "        return arr\n"
   ],
   "metadata": {
    "collapsed": false
   }
  },
  {
   "cell_type": "markdown",
   "source": [
    "First hand"
   ],
   "metadata": {
    "collapsed": false
   }
  },
  {
   "cell_type": "code",
   "execution_count": 1819,
   "outputs": [
    {
     "name": "stdout",
     "output_type": "stream",
     "text": [
      "[2471, 2562, 2489, 2478]\n"
     ]
    }
   ],
   "source": [
    "n = 10000\n",
    "\n",
    "deck = Deck()\n",
    "nums_first = [0] * 4\n",
    "\n",
    "for i in range(n):\n",
    "    deck.shuffle()\n",
    "    for idx, hand in enumerate(deck.get_hands()):\n",
    "        if hand.is_first():\n",
    "            nums_first[idx] += 1\n",
    "\n",
    "print(nums_first)"
   ],
   "metadata": {
    "collapsed": false
   }
  },
  {
   "cell_type": "markdown",
   "source": [
    "No of cards"
   ],
   "metadata": {
    "collapsed": false
   }
  },
  {
   "cell_type": "code",
   "execution_count": 1848,
   "outputs": [
    {
     "name": "stdout",
     "output_type": "stream",
     "text": [
      "[2.8242, 2.8024, 2.7851, 2.8022]\n"
     ]
    }
   ],
   "source": [
    "deck = Deck()\n",
    "\n",
    "n = 10000\n",
    "result = [0] * 4\n",
    "for i in range(n):\n",
    "    deck.shuffle()\n",
    "    for idx, hand in enumerate(deck.get_hands()):\n",
    "        result[idx] += hand.num_pairs(2)\n",
    "\n",
    "print([r / n for r in result])"
   ],
   "metadata": {
    "collapsed": false
   }
  }
 ],
 "metadata": {
  "kernelspec": {
   "display_name": "Python 3",
   "language": "python",
   "name": "python3"
  },
  "language_info": {
   "codemirror_mode": {
    "name": "ipython",
    "version": 2
   },
   "file_extension": ".py",
   "mimetype": "text/x-python",
   "name": "python",
   "nbconvert_exporter": "python",
   "pygments_lexer": "ipython2",
   "version": "2.7.6"
  }
 },
 "nbformat": 4,
 "nbformat_minor": 0
}
